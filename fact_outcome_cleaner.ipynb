{
 "cells": [
  {
   "cell_type": "code",
   "execution_count": 1,
   "metadata": {},
   "outputs": [],
   "source": [
    "import pandas as pd"
   ]
  },
  {
   "cell_type": "code",
   "execution_count": 2,
   "metadata": {},
   "outputs": [
    {
     "data": {
      "text/html": [
       "<div>\n",
       "<style scoped>\n",
       "    .dataframe tbody tr th:only-of-type {\n",
       "        vertical-align: middle;\n",
       "    }\n",
       "\n",
       "    .dataframe tbody tr th {\n",
       "        vertical-align: top;\n",
       "    }\n",
       "\n",
       "    .dataframe thead th {\n",
       "        text-align: right;\n",
       "    }\n",
       "</style>\n",
       "<table border=\"1\" class=\"dataframe\">\n",
       "  <thead>\n",
       "    <tr style=\"text-align: right;\">\n",
       "      <th></th>\n",
       "      <th>year_court_caseid</th>\n",
       "      <th>text</th>\n",
       "      <th>Outcome</th>\n",
       "    </tr>\n",
       "  </thead>\n",
       "  <tbody>\n",
       "    <tr>\n",
       "      <th>0</th>\n",
       "      <td>2000_SGHC_1</td>\n",
       "      <td>Before going into the facts proper, a summary ...</td>\n",
       "      <td>Appeal allowed</td>\n",
       "    </tr>\n",
       "    <tr>\n",
       "      <th>1</th>\n",
       "      <td>2000_SGHC_2</td>\n",
       "      <td>The plaintiffs were originally known as Lian H...</td>\n",
       "      <td>Appeal dismissed</td>\n",
       "    </tr>\n",
       "    <tr>\n",
       "      <th>2</th>\n",
       "      <td>2000_SGHC_4</td>\n",
       "      <td>The appellant was a member of the club and a r...</td>\n",
       "      <td>Appeal dismissed</td>\n",
       "    </tr>\n",
       "    <tr>\n",
       "      <th>3</th>\n",
       "      <td>2000_SGHC_5</td>\n",
       "      <td>1. The plaintiffs are a ship-owning\\r\\n\\r\\ncom...</td>\n",
       "      <td>Outcome not explicitly mentioned</td>\n",
       "    </tr>\n",
       "    <tr>\n",
       "      <th>4</th>\n",
       "      <td>2000_SGHC_9</td>\n",
       "      <td>Although several other procedural points were ...</td>\n",
       "      <td>Appeal dismissed</td>\n",
       "    </tr>\n",
       "  </tbody>\n",
       "</table>\n",
       "</div>"
      ],
      "text/plain": [
       "  year_court_caseid                                               text  \\\n",
       "0       2000_SGHC_1  Before going into the facts proper, a summary ...   \n",
       "1       2000_SGHC_2  The plaintiffs were originally known as Lian H...   \n",
       "2       2000_SGHC_4  The appellant was a member of the club and a r...   \n",
       "3       2000_SGHC_5  1. The plaintiffs are a ship-owning\\r\\n\\r\\ncom...   \n",
       "4       2000_SGHC_9  Although several other procedural points were ...   \n",
       "\n",
       "                            Outcome  \n",
       "0                    Appeal allowed  \n",
       "1                  Appeal dismissed  \n",
       "2                  Appeal dismissed  \n",
       "3  Outcome not explicitly mentioned  \n",
       "4                  Appeal dismissed  "
      ]
     },
     "execution_count": 2,
     "metadata": {},
     "output_type": "execute_result"
    }
   ],
   "source": [
    "df = pd.read_csv('fact_with_outcome.csv')\n",
    "df.head()"
   ]
  },
  {
   "cell_type": "code",
   "execution_count": 3,
   "metadata": {},
   "outputs": [
    {
     "name": "stderr",
     "output_type": "stream",
     "text": [
      "/var/folders/0m/1wpwx38n6tdb_9y7mx9pvb_c0000gn/T/ipykernel_75412/1201943111.py:2: FutureWarning: A value is trying to be set on a copy of a DataFrame or Series through chained assignment using an inplace method.\n",
      "The behavior will change in pandas 3.0. This inplace method will never work because the intermediate object on which we are setting values always behaves as a copy.\n",
      "\n",
      "For example, when doing 'df[col].method(value, inplace=True)', try using 'df.method({col: value}, inplace=True)' or df[col] = df[col].method(value) instead, to perform the operation inplace on the original object.\n",
      "\n",
      "\n",
      "  df.text.replace(to_replace=[r\"\\\\t|\\\\n|\\\\r\", \"\\t|\\n|\\r\"], value=[\" \",\" \"], regex=True, inplace=True)\n"
     ]
    },
    {
     "data": {
      "text/html": [
       "<div>\n",
       "<style scoped>\n",
       "    .dataframe tbody tr th:only-of-type {\n",
       "        vertical-align: middle;\n",
       "    }\n",
       "\n",
       "    .dataframe tbody tr th {\n",
       "        vertical-align: top;\n",
       "    }\n",
       "\n",
       "    .dataframe thead th {\n",
       "        text-align: right;\n",
       "    }\n",
       "</style>\n",
       "<table border=\"1\" class=\"dataframe\">\n",
       "  <thead>\n",
       "    <tr style=\"text-align: right;\">\n",
       "      <th></th>\n",
       "      <th>year_court_caseid</th>\n",
       "      <th>text</th>\n",
       "      <th>Outcome</th>\n",
       "    </tr>\n",
       "  </thead>\n",
       "  <tbody>\n",
       "    <tr>\n",
       "      <th>0</th>\n",
       "      <td>2000_SGHC_1</td>\n",
       "      <td>Before going into the facts proper, a summary ...</td>\n",
       "      <td>Appeal allowed</td>\n",
       "    </tr>\n",
       "    <tr>\n",
       "      <th>1</th>\n",
       "      <td>2000_SGHC_2</td>\n",
       "      <td>The plaintiffs were originally known as Lian H...</td>\n",
       "      <td>Appeal dismissed</td>\n",
       "    </tr>\n",
       "    <tr>\n",
       "      <th>2</th>\n",
       "      <td>2000_SGHC_4</td>\n",
       "      <td>The appellant was a member of the club and a r...</td>\n",
       "      <td>Appeal dismissed</td>\n",
       "    </tr>\n",
       "    <tr>\n",
       "      <th>3</th>\n",
       "      <td>2000_SGHC_5</td>\n",
       "      <td>1. The plaintiffs are a ship-owning    company...</td>\n",
       "      <td>Outcome not explicitly mentioned</td>\n",
       "    </tr>\n",
       "    <tr>\n",
       "      <th>4</th>\n",
       "      <td>2000_SGHC_9</td>\n",
       "      <td>Although several other procedural points were ...</td>\n",
       "      <td>Appeal dismissed</td>\n",
       "    </tr>\n",
       "  </tbody>\n",
       "</table>\n",
       "</div>"
      ],
      "text/plain": [
       "  year_court_caseid                                               text  \\\n",
       "0       2000_SGHC_1  Before going into the facts proper, a summary ...   \n",
       "1       2000_SGHC_2  The plaintiffs were originally known as Lian H...   \n",
       "2       2000_SGHC_4  The appellant was a member of the club and a r...   \n",
       "3       2000_SGHC_5  1. The plaintiffs are a ship-owning    company...   \n",
       "4       2000_SGHC_9  Although several other procedural points were ...   \n",
       "\n",
       "                            Outcome  \n",
       "0                    Appeal allowed  \n",
       "1                  Appeal dismissed  \n",
       "2                  Appeal dismissed  \n",
       "3  Outcome not explicitly mentioned  \n",
       "4                  Appeal dismissed  "
      ]
     },
     "execution_count": 3,
     "metadata": {},
     "output_type": "execute_result"
    }
   ],
   "source": [
    "df = df.dropna(subset=['text'])\n",
    "df.text.replace(to_replace=[r\"\\\\t|\\\\n|\\\\r\", \"\\t|\\n|\\r\"], value=[\" \",\" \"], regex=True, inplace=True)\n",
    "df.head()"
   ]
  },
  {
   "cell_type": "code",
   "execution_count": 4,
   "metadata": {},
   "outputs": [],
   "source": [
    "df = df[df['Outcome'] != \"Outcome not explicitly mentioned\"]"
   ]
  },
  {
   "cell_type": "code",
   "execution_count": 6,
   "metadata": {},
   "outputs": [
    {
     "data": {
      "text/html": [
       "<div>\n",
       "<style scoped>\n",
       "    .dataframe tbody tr th:only-of-type {\n",
       "        vertical-align: middle;\n",
       "    }\n",
       "\n",
       "    .dataframe tbody tr th {\n",
       "        vertical-align: top;\n",
       "    }\n",
       "\n",
       "    .dataframe thead th {\n",
       "        text-align: right;\n",
       "    }\n",
       "</style>\n",
       "<table border=\"1\" class=\"dataframe\">\n",
       "  <thead>\n",
       "    <tr style=\"text-align: right;\">\n",
       "      <th></th>\n",
       "      <th>year_court_caseid</th>\n",
       "      <th>text</th>\n",
       "      <th>Outcome</th>\n",
       "    </tr>\n",
       "  </thead>\n",
       "  <tbody>\n",
       "    <tr>\n",
       "      <th>0</th>\n",
       "      <td>2000_SGHC_1</td>\n",
       "      <td>Before going into the facts proper, a summary ...</td>\n",
       "      <td>Appeal allowed</td>\n",
       "    </tr>\n",
       "    <tr>\n",
       "      <th>1</th>\n",
       "      <td>2000_SGHC_2</td>\n",
       "      <td>The plaintiffs were originally known as Lian H...</td>\n",
       "      <td>Appeal dismissed</td>\n",
       "    </tr>\n",
       "    <tr>\n",
       "      <th>2</th>\n",
       "      <td>2000_SGHC_4</td>\n",
       "      <td>The appellant was a member of the club and a r...</td>\n",
       "      <td>Appeal dismissed</td>\n",
       "    </tr>\n",
       "    <tr>\n",
       "      <th>4</th>\n",
       "      <td>2000_SGHC_9</td>\n",
       "      <td>Although several other procedural points were ...</td>\n",
       "      <td>Appeal dismissed</td>\n",
       "    </tr>\n",
       "    <tr>\n",
       "      <th>5</th>\n",
       "      <td>2000_SGHC_12</td>\n",
       "      <td>1. The Plaintiffs are property developers. The...</td>\n",
       "      <td>Appeal allowed</td>\n",
       "    </tr>\n",
       "  </tbody>\n",
       "</table>\n",
       "</div>"
      ],
      "text/plain": [
       "  year_court_caseid                                               text  \\\n",
       "0       2000_SGHC_1  Before going into the facts proper, a summary ...   \n",
       "1       2000_SGHC_2  The plaintiffs were originally known as Lian H...   \n",
       "2       2000_SGHC_4  The appellant was a member of the club and a r...   \n",
       "4       2000_SGHC_9  Although several other procedural points were ...   \n",
       "5      2000_SGHC_12  1. The Plaintiffs are property developers. The...   \n",
       "\n",
       "            Outcome  \n",
       "0    Appeal allowed  \n",
       "1  Appeal dismissed  \n",
       "2  Appeal dismissed  \n",
       "4  Appeal dismissed  \n",
       "5    Appeal allowed  "
      ]
     },
     "execution_count": 6,
     "metadata": {},
     "output_type": "execute_result"
    }
   ],
   "source": [
    "df.loc[df['Outcome'] == \"Order accordingly\", 'Outcome'] = 'Appeal allowed'\n",
    "df.head()"
   ]
  },
  {
   "cell_type": "code",
   "execution_count": 8,
   "metadata": {},
   "outputs": [
    {
     "data": {
      "text/plain": [
       "Outcome\n",
       "Appeal dismissed    951\n",
       "Appeal allowed      869\n",
       "Name: count, dtype: int64"
      ]
     },
     "execution_count": 8,
     "metadata": {},
     "output_type": "execute_result"
    }
   ],
   "source": [
    "df['Outcome'].value_counts()"
   ]
  },
  {
   "cell_type": "code",
   "execution_count": 9,
   "metadata": {},
   "outputs": [],
   "source": [
    "df.to_csv('Final_fact_with_outcome.csv', index=False)"
   ]
  },
  {
   "cell_type": "code",
   "execution_count": null,
   "metadata": {},
   "outputs": [],
   "source": []
  }
 ],
 "metadata": {
  "kernelspec": {
   "display_name": "Python 3",
   "language": "python",
   "name": "python3"
  },
  "language_info": {
   "codemirror_mode": {
    "name": "ipython",
    "version": 3
   },
   "file_extension": ".py",
   "mimetype": "text/x-python",
   "name": "python",
   "nbconvert_exporter": "python",
   "pygments_lexer": "ipython3",
   "version": "3.10.2"
  }
 },
 "nbformat": 4,
 "nbformat_minor": 2
}
